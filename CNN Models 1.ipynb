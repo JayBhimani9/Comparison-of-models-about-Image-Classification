{
 "cells": [
  {
   "cell_type": "markdown",
   "metadata": {},
   "source": [
    "# Requirements"
   ]
  },
  {
   "cell_type": "code",
   "execution_count": 1,
   "metadata": {},
   "outputs": [
    {
     "name": "stdout",
     "output_type": "stream",
     "text": [
      "Using TensorFlow backend\n"
     ]
    }
   ],
   "source": [
    "import tensorflow as tf\n",
    "# import tensorflow.keras\n",
    "from tensorflow.keras import datasets, layers, models\n",
    "import matplotlib.pyplot as plt\n",
    "import numpy as np\n",
    "from sklearn.metrics import confusion_matrix , classification_report, accuracy_score, precision_score, recall_score,f1_score\n",
    "import seaborn as sns\n",
    "from keras_tuner import RandomSearch\n",
    "from keras_tuner.engine.hyperparameters import HyperParameters"
   ]
  },
  {
   "cell_type": "markdown",
   "metadata": {},
   "source": [
    "# Dataset"
   ]
  },
  {
   "cell_type": "code",
   "execution_count": 2,
   "metadata": {},
   "outputs": [
    {
     "name": "stdout",
     "output_type": "stream",
     "text": [
      "Number of images in X_train = 50000\n",
      "Number of images in X_test = 10000\n",
      "Shape of X_train = (50000, 32, 32, 3)\n",
      "Shape of y_train = (50000, 1)\n"
     ]
    }
   ],
   "source": [
    "# Dataset\n",
    "(X_train, y_train), (X_test, y_test) = datasets.cifar10.load_data()\n",
    "print(f'Number of images in X_train = {X_train.shape[0]}')\n",
    "print(f'Number of images in X_test = {X_test.shape[0]}')\n",
    "print(f'Shape of X_train = {X_train.shape}')\n",
    "print(f'Shape of y_train = {y_train.shape}')\n",
    "y_train = y_train.reshape(-1,)  # to flatten the array of classes of images\n",
    "classes = [\"airplane\", \"automobile\", \"bird\", \"cat\",\n",
    "           \"deer\", \"dog\", \"frog\", \"horse\", \"ship\", \"truck\"]\n",
    "\n",
    "\n",
    "def showImage(X, y, index):\n",
    "    plt.figure(figsize=(3, 3))\n",
    "    plt.imshow(X[index])\n",
    "    plt.xlabel(classes[y[index]])\n",
    "\n",
    "\n",
    "def showImages(X, y, index1, index2):\n",
    "    for i in range(index1, index2+1):\n",
    "        plt.figure(figsize=(3, 3))\n",
    "        plt.imshow(X[i])\n",
    "        plt.xlabel(classes[y[i]])\n",
    "\n",
    "\n",
    "# Data Normalization\n",
    "X_train = X_train / 255.0\n",
    "X_test = X_test / 255.0\n",
    "\n",
    "\n",
    "def y_pred_classes(y_pred):\n",
    "    y_pred_classes_ = np.array([np.argmax(element) for element in y_pred])\n",
    "    return y_pred_classes_\n",
    "\n",
    "\n",
    "def plot_CM():\n",
    "    cm = confusion_matrix(y_pred=y_pred_classes(), y_true=y_test)\n",
    "    plt.figure(figsize=(15, 15))\n",
    "    sns.heatmap(cm, annot=True, fmt='d', cmap='Blues', xticklabels=classes, yticklabels=classes)\n",
    "    plt.xlabel('Predicted')\n",
    "    plt.ylabel('True')\n",
    "    plt.title('Confusion Matrix using ANN')\n",
    "    plt.show()\n",
    "\n",
    "def plot_classification_report():\n",
    "    print(\"Classification Report: \\n\", classification_report(y_test, y_pred_classes()))\n",
    "def goodness(y_pred, y_true):\n",
    "    print(f\"Precision is {precision_score(y_true=y_true,y_pred=y_pred)}\")\n"
   ]
  },
  {
   "cell_type": "code",
   "execution_count": 3,
   "metadata": {},
   "outputs": [
    {
     "name": "stdout",
     "output_type": "stream",
     "text": [
      "Epoch 1/25\n",
      "1563/1563 [==============================] - 17s 10ms/step - loss: 1.6616 - accuracy: 0.3902\n",
      "Epoch 2/25\n",
      "1563/1563 [==============================] - 15s 10ms/step - loss: 1.3304 - accuracy: 0.5283\n",
      "Epoch 3/25\n",
      "1563/1563 [==============================] - 15s 10ms/step - loss: 1.2050 - accuracy: 0.5765\n",
      "Epoch 4/25\n",
      "1563/1563 [==============================] - 15s 10ms/step - loss: 1.1270 - accuracy: 0.6043\n",
      "Epoch 5/25\n",
      "1563/1563 [==============================] - 16s 10ms/step - loss: 1.0654 - accuracy: 0.6271\n",
      "Epoch 6/25\n",
      "1563/1563 [==============================] - 15s 9ms/step - loss: 1.0180 - accuracy: 0.6454\n",
      "Epoch 7/25\n",
      "1563/1563 [==============================] - 17s 11ms/step - loss: 0.9759 - accuracy: 0.6599\n",
      "Epoch 8/25\n",
      "1563/1563 [==============================] - 16s 10ms/step - loss: 0.9441 - accuracy: 0.6710\n",
      "Epoch 9/25\n",
      "1563/1563 [==============================] - 15s 10ms/step - loss: 0.9118 - accuracy: 0.6831\n",
      "Epoch 10/25\n",
      "1563/1563 [==============================] - 14s 9ms/step - loss: 0.8861 - accuracy: 0.6903\n",
      "Epoch 11/25\n",
      "1563/1563 [==============================] - 15s 10ms/step - loss: 0.8626 - accuracy: 0.6979\n",
      "Epoch 12/25\n",
      "1563/1563 [==============================] - 15s 10ms/step - loss: 0.8412 - accuracy: 0.7063\n",
      "Epoch 13/25\n",
      "1563/1563 [==============================] - 15s 10ms/step - loss: 0.8210 - accuracy: 0.7156\n",
      "Epoch 14/25\n",
      "1563/1563 [==============================] - 16s 10ms/step - loss: 0.8049 - accuracy: 0.7201\n",
      "Epoch 15/25\n",
      "1563/1563 [==============================] - 16s 11ms/step - loss: 0.7891 - accuracy: 0.7256\n",
      "Epoch 16/25\n",
      "1563/1563 [==============================] - 18s 11ms/step - loss: 0.7732 - accuracy: 0.7312\n",
      "Epoch 17/25\n",
      "1563/1563 [==============================] - 18s 11ms/step - loss: 0.7581 - accuracy: 0.7366\n",
      "Epoch 18/25\n",
      "1563/1563 [==============================] - 17s 11ms/step - loss: 0.7463 - accuracy: 0.7376\n",
      "Epoch 19/25\n",
      "1563/1563 [==============================] - 17s 11ms/step - loss: 0.7297 - accuracy: 0.7459\n",
      "Epoch 20/25\n",
      "1563/1563 [==============================] - 17s 11ms/step - loss: 0.7160 - accuracy: 0.7501\n",
      "Epoch 21/25\n",
      "1563/1563 [==============================] - 18s 11ms/step - loss: 0.7035 - accuracy: 0.7521\n",
      "Epoch 22/25\n",
      "1563/1563 [==============================] - 15s 9ms/step - loss: 0.6967 - accuracy: 0.7562\n",
      "Epoch 23/25\n",
      "1563/1563 [==============================] - 13s 8ms/step - loss: 0.6846 - accuracy: 0.7589\n",
      "Epoch 24/25\n",
      "1563/1563 [==============================] - 12s 8ms/step - loss: 0.6724 - accuracy: 0.7640\n",
      "Epoch 25/25\n",
      "1563/1563 [==============================] - 12s 8ms/step - loss: 0.6626 - accuracy: 0.7665\n"
     ]
    },
    {
     "data": {
      "text/plain": [
       "<keras.src.callbacks.History at 0x163721c5690>"
      ]
     },
     "execution_count": 3,
     "metadata": {},
     "output_type": "execute_result"
    }
   ],
   "source": [
    "cnn1=models.Sequential([\n",
    "    layers.Conv2D(filters=32,kernel_size=(3,3),activation='relu', input_shape=(32,32,3)),\n",
    "    layers.MaxPool2D((3,3)),\n",
    "    layers.Conv2D(filters=64,kernel_size=(3,3),activation='relu'),\n",
    "    layers.MaxPool2D((3,3)),\n",
    "    \n",
    "    layers.Flatten(),\n",
    "    layers.Dense(64, activation='relu'),\n",
    "    layers.Dense(10, activation='softmax')\n",
    "])\n",
    "cnn1.compile(optimizer='adam',\n",
    "              loss='sparse_categorical_crossentropy',\n",
    "              metrics=['accuracy'])\n",
    "\n",
    "cnn1.fit(X_train, y_train, epochs=25)\n",
    "\n"
   ]
  },
  {
   "cell_type": "code",
   "execution_count": 4,
   "metadata": {},
   "outputs": [
    {
     "name": "stderr",
     "output_type": "stream",
     "text": [
      "C:\\Users\\devba\\anaconda3\\lib\\site-packages\\keras\\src\\engine\\training.py:3000: UserWarning: You are saving your model as an HDF5 file via `model.save()`. This file format is considered legacy. We recommend using instead the native Keras format, e.g. `model.save('my_model.keras')`.\n",
      "  saving_api.save_model(\n"
     ]
    }
   ],
   "source": [
    "cnn1.save(\"cnn1.h5\")\n",
    "cnn1.save(\"cnn1.keras\")"
   ]
  },
  {
   "cell_type": "code",
   "execution_count": 5,
   "metadata": {
    "scrolled": true
   },
   "outputs": [
    {
     "name": "stdout",
     "output_type": "stream",
     "text": [
      "Epoch 1/25\n",
      "1563/1563 [==============================] - 17s 11ms/step - loss: 1.4793 - accuracy: 0.4687\n",
      "Epoch 2/25\n",
      "1563/1563 [==============================] - 17s 11ms/step - loss: 1.1160 - accuracy: 0.6093\n",
      "Epoch 3/25\n",
      "1563/1563 [==============================] - 16s 10ms/step - loss: 0.9799 - accuracy: 0.6593\n",
      "Epoch 4/25\n",
      "1563/1563 [==============================] - 16s 10ms/step - loss: 0.8892 - accuracy: 0.6920\n",
      "Epoch 5/25\n",
      "1563/1563 [==============================] - 16s 10ms/step - loss: 0.8191 - accuracy: 0.7170\n",
      "Epoch 6/25\n",
      "1563/1563 [==============================] - 17s 11ms/step - loss: 0.7610 - accuracy: 0.7367\n",
      "Epoch 7/25\n",
      "1563/1563 [==============================] - 17s 11ms/step - loss: 0.7042 - accuracy: 0.7557\n",
      "Epoch 8/25\n",
      "1563/1563 [==============================] - 17s 11ms/step - loss: 0.6591 - accuracy: 0.7697\n",
      "Epoch 9/25\n",
      "1563/1563 [==============================] - 17s 11ms/step - loss: 0.6039 - accuracy: 0.7888\n",
      "Epoch 10/25\n",
      "1563/1563 [==============================] - 17s 11ms/step - loss: 0.5688 - accuracy: 0.8017\n",
      "Epoch 11/25\n",
      "1563/1563 [==============================] - 17s 11ms/step - loss: 0.5299 - accuracy: 0.8163\n",
      "Epoch 12/25\n",
      "1563/1563 [==============================] - 17s 11ms/step - loss: 0.4925 - accuracy: 0.8282\n",
      "Epoch 13/25\n",
      "1563/1563 [==============================] - 17s 11ms/step - loss: 0.4525 - accuracy: 0.8410\n",
      "Epoch 14/25\n",
      "1563/1563 [==============================] - 16s 10ms/step - loss: 0.4240 - accuracy: 0.8520\n",
      "Epoch 15/25\n",
      "1563/1563 [==============================] - 17s 11ms/step - loss: 0.3870 - accuracy: 0.8646\n",
      "Epoch 16/25\n",
      "1563/1563 [==============================] - 17s 11ms/step - loss: 0.3634 - accuracy: 0.8725\n",
      "Epoch 17/25\n",
      "1563/1563 [==============================] - 17s 11ms/step - loss: 0.3353 - accuracy: 0.8814\n",
      "Epoch 18/25\n",
      "1563/1563 [==============================] - 18s 12ms/step - loss: 0.3119 - accuracy: 0.8893\n",
      "Epoch 19/25\n",
      "1563/1563 [==============================] - 18s 11ms/step - loss: 0.2888 - accuracy: 0.8986\n",
      "Epoch 20/25\n",
      "1563/1563 [==============================] - 19s 12ms/step - loss: 0.2676 - accuracy: 0.9042\n",
      "Epoch 21/25\n",
      "1563/1563 [==============================] - 19s 12ms/step - loss: 0.2495 - accuracy: 0.9117\n",
      "Epoch 22/25\n",
      "1563/1563 [==============================] - 20s 13ms/step - loss: 0.2279 - accuracy: 0.9195\n",
      "Epoch 23/25\n",
      "1563/1563 [==============================] - 19s 12ms/step - loss: 0.2167 - accuracy: 0.9231\n",
      "Epoch 24/25\n",
      "1563/1563 [==============================] - 20s 13ms/step - loss: 0.1916 - accuracy: 0.9320\n",
      "Epoch 25/25\n",
      "1563/1563 [==============================] - 20s 13ms/step - loss: 0.1861 - accuracy: 0.9343\n",
      "313/313 [==============================] - 2s 5ms/step - loss: 1.8181 - accuracy: 0.6836\n"
     ]
    },
    {
     "data": {
      "text/plain": [
       "[1.8180733919143677, 0.6836000084877014]"
      ]
     },
     "execution_count": 5,
     "metadata": {},
     "output_type": "execute_result"
    }
   ],
   "source": [
    "cnn2=models.Sequential([\n",
    "    layers.Conv2D(filters=32,kernel_size=(3,3),activation='relu', input_shape=(32,32,3)),\n",
    "    layers.MaxPool2D((2,2)),\n",
    "    layers.Conv2D(filters=64,kernel_size=(3,3),activation='relu'),\n",
    "    layers.MaxPool2D((2,2)),\n",
    "    \n",
    "    layers.Flatten(),\n",
    "    layers.Dense(64, activation='relu'),\n",
    "    layers.Dense(10, activation='softmax')\n",
    "])\n",
    "cnn2.compile(optimizer='adam',\n",
    "              loss='sparse_categorical_crossentropy',\n",
    "              metrics=['accuracy'])\n",
    "\n",
    "cnn2.fit(X_train, y_train, epochs=25)\n",
    "cnn2.evaluate(X_test,y_test)"
   ]
  },
  {
   "cell_type": "code",
   "execution_count": 6,
   "metadata": {},
   "outputs": [],
   "source": [
    "cnn2.save(\"cnn2.h5\")\n",
    "cnn2.save(\"cnn2.keras\")"
   ]
  },
  {
   "cell_type": "code",
   "execution_count": 7,
   "metadata": {
    "scrolled": true
   },
   "outputs": [
    {
     "name": "stdout",
     "output_type": "stream",
     "text": [
      "Epoch 1/25\n",
      "1563/1563 [==============================] - 26s 17ms/step - loss: 1.5038 - accuracy: 0.4608\n",
      "Epoch 2/25\n",
      "1563/1563 [==============================] - 27s 17ms/step - loss: 1.1701 - accuracy: 0.5874\n",
      "Epoch 3/25\n",
      "1563/1563 [==============================] - 26s 17ms/step - loss: 1.0367 - accuracy: 0.6363\n",
      "Epoch 4/25\n",
      "1563/1563 [==============================] - 26s 17ms/step - loss: 0.9602 - accuracy: 0.6631\n",
      "Epoch 5/25\n",
      "1563/1563 [==============================] - 26s 16ms/step - loss: 0.9060 - accuracy: 0.6835\n",
      "Epoch 6/25\n",
      "1563/1563 [==============================] - 24s 15ms/step - loss: 0.8561 - accuracy: 0.7008\n",
      "Epoch 7/25\n",
      "1563/1563 [==============================] - 25s 16ms/step - loss: 0.8174 - accuracy: 0.7153\n",
      "Epoch 8/25\n",
      "1563/1563 [==============================] - 25s 16ms/step - loss: 0.7782 - accuracy: 0.7291\n",
      "Epoch 9/25\n",
      "1563/1563 [==============================] - 23s 15ms/step - loss: 0.7449 - accuracy: 0.7399\n",
      "Epoch 10/25\n",
      "1563/1563 [==============================] - 22s 14ms/step - loss: 0.7152 - accuracy: 0.7488\n",
      "Epoch 11/25\n",
      "1563/1563 [==============================] - 24s 15ms/step - loss: 0.6871 - accuracy: 0.7581\n",
      "Epoch 12/25\n",
      "1563/1563 [==============================] - 26s 16ms/step - loss: 0.6616 - accuracy: 0.7669\n",
      "Epoch 13/25\n",
      "1563/1563 [==============================] - 25s 16ms/step - loss: 0.6347 - accuracy: 0.7771\n",
      "Epoch 14/25\n",
      "1563/1563 [==============================] - 25s 16ms/step - loss: 0.6142 - accuracy: 0.7840\n",
      "Epoch 15/25\n",
      "1563/1563 [==============================] - 25s 16ms/step - loss: 0.5921 - accuracy: 0.7911\n",
      "Epoch 16/25\n",
      "1563/1563 [==============================] - 24s 15ms/step - loss: 0.5740 - accuracy: 0.7986\n",
      "Epoch 17/25\n",
      "1563/1563 [==============================] - 24s 15ms/step - loss: 0.5527 - accuracy: 0.8064\n",
      "Epoch 18/25\n",
      "1563/1563 [==============================] - 24s 16ms/step - loss: 0.5348 - accuracy: 0.8130\n",
      "Epoch 19/25\n",
      "1563/1563 [==============================] - 25s 16ms/step - loss: 0.5169 - accuracy: 0.8188\n",
      "Epoch 20/25\n",
      "1563/1563 [==============================] - 25s 16ms/step - loss: 0.5035 - accuracy: 0.8222\n",
      "Epoch 21/25\n",
      "1563/1563 [==============================] - 25s 16ms/step - loss: 0.4841 - accuracy: 0.8279\n",
      "Epoch 22/25\n",
      "1563/1563 [==============================] - 24s 16ms/step - loss: 0.4731 - accuracy: 0.8318\n",
      "Epoch 23/25\n",
      "1563/1563 [==============================] - 25s 16ms/step - loss: 0.4552 - accuracy: 0.8376\n",
      "Epoch 24/25\n",
      "1563/1563 [==============================] - 22s 14ms/step - loss: 0.4407 - accuracy: 0.8439\n",
      "Epoch 25/25\n",
      "1563/1563 [==============================] - 23s 14ms/step - loss: 0.4265 - accuracy: 0.8490\n",
      "313/313 [==============================] - 2s 5ms/step - loss: 1.1335 - accuracy: 0.6961\n"
     ]
    },
    {
     "data": {
      "text/plain": [
       "[1.1334954500198364, 0.6960999965667725]"
      ]
     },
     "execution_count": 7,
     "metadata": {},
     "output_type": "execute_result"
    }
   ],
   "source": [
    "cnn3=models.Sequential([\n",
    "    layers.Conv2D(filters=64,kernel_size=(3,3),activation='relu', input_shape=(32,32,3)),\n",
    "    layers.MaxPool2D((2,2)),\n",
    "    layers.Conv2D(filters=32,kernel_size=(3,3),activation='relu'),\n",
    "    layers.MaxPool2D((2,2)),\n",
    "    \n",
    "    layers.Flatten(),\n",
    "    layers.Dense(64, activation='relu'),\n",
    "    layers.Dense(10, activation='softmax')\n",
    "])\n",
    "cnn3.compile(optimizer='adam',\n",
    "              loss='sparse_categorical_crossentropy',\n",
    "              metrics=['accuracy'])\n",
    "\n",
    "cnn3.fit(X_train, y_train, epochs=25)\n",
    "cnn3.evaluate(X_test,y_test)\n"
   ]
  },
  {
   "cell_type": "code",
   "execution_count": 8,
   "metadata": {},
   "outputs": [],
   "source": [
    "cnn3.save(\"cnn3.h5\")\n",
    "cnn3.save(\"cnn3.keras\")"
   ]
  },
  {
   "cell_type": "code",
   "execution_count": 9,
   "metadata": {},
   "outputs": [
    {
     "name": "stdout",
     "output_type": "stream",
     "text": [
      "Epoch 1/25\n",
      "1563/1563 [==============================] - 20s 13ms/step - loss: 1.5441 - accuracy: 0.4370\n",
      "Epoch 2/25\n",
      "1563/1563 [==============================] - 20s 13ms/step - loss: 1.1690 - accuracy: 0.5883\n",
      "Epoch 3/25\n",
      "1563/1563 [==============================] - 20s 13ms/step - loss: 1.0071 - accuracy: 0.6498\n",
      "Epoch 4/25\n",
      "1563/1563 [==============================] - 19s 12ms/step - loss: 0.8940 - accuracy: 0.6904\n",
      "Epoch 5/25\n",
      "1563/1563 [==============================] - 19s 12ms/step - loss: 0.8111 - accuracy: 0.7179\n",
      "Epoch 6/25\n",
      "1563/1563 [==============================] - 19s 12ms/step - loss: 0.7507 - accuracy: 0.7403\n",
      "Epoch 7/25\n",
      "1563/1563 [==============================] - 20s 13ms/step - loss: 0.6905 - accuracy: 0.7616\n",
      "Epoch 8/25\n",
      "1563/1563 [==============================] - 20s 13ms/step - loss: 0.6462 - accuracy: 0.7756\n",
      "Epoch 9/25\n",
      "1563/1563 [==============================] - 20s 13ms/step - loss: 0.6002 - accuracy: 0.7904\n",
      "Epoch 10/25\n",
      "1563/1563 [==============================] - 20s 13ms/step - loss: 0.5574 - accuracy: 0.8044\n",
      "Epoch 11/25\n",
      "1563/1563 [==============================] - 20s 13ms/step - loss: 0.5224 - accuracy: 0.8189\n",
      "Epoch 12/25\n",
      "1563/1563 [==============================] - 20s 13ms/step - loss: 0.4835 - accuracy: 0.8292\n",
      "Epoch 13/25\n",
      "1563/1563 [==============================] - 20s 13ms/step - loss: 0.4548 - accuracy: 0.8391\n",
      "Epoch 14/25\n",
      "1563/1563 [==============================] - 20s 13ms/step - loss: 0.4234 - accuracy: 0.8487\n",
      "Epoch 15/25\n",
      "1563/1563 [==============================] - 20s 13ms/step - loss: 0.3916 - accuracy: 0.8617\n",
      "Epoch 16/25\n",
      "1563/1563 [==============================] - 20s 13ms/step - loss: 0.3659 - accuracy: 0.8697\n",
      "Epoch 17/25\n",
      "1563/1563 [==============================] - 20s 13ms/step - loss: 0.3464 - accuracy: 0.8758\n",
      "Epoch 18/25\n",
      "1563/1563 [==============================] - 20s 13ms/step - loss: 0.3201 - accuracy: 0.8848\n",
      "Epoch 19/25\n",
      "1563/1563 [==============================] - 20s 13ms/step - loss: 0.3039 - accuracy: 0.8907\n",
      "Epoch 20/25\n",
      "1563/1563 [==============================] - 20s 13ms/step - loss: 0.2798 - accuracy: 0.8993\n",
      "Epoch 21/25\n",
      "1563/1563 [==============================] - 20s 13ms/step - loss: 0.2655 - accuracy: 0.9037\n",
      "Epoch 22/25\n",
      "1563/1563 [==============================] - 20s 13ms/step - loss: 0.2496 - accuracy: 0.9107\n",
      "Epoch 23/25\n",
      "1563/1563 [==============================] - 19s 12ms/step - loss: 0.2356 - accuracy: 0.9156\n",
      "Epoch 24/25\n",
      "1563/1563 [==============================] - 20s 13ms/step - loss: 0.2169 - accuracy: 0.9216\n",
      "Epoch 25/25\n",
      "1563/1563 [==============================] - 20s 13ms/step - loss: 0.2140 - accuracy: 0.9231\n",
      "313/313 [==============================] - 2s 5ms/step - loss: 1.5356 - accuracy: 0.6937\n"
     ]
    },
    {
     "data": {
      "text/plain": [
       "[1.5355867147445679, 0.6937000155448914]"
      ]
     },
     "execution_count": 9,
     "metadata": {},
     "output_type": "execute_result"
    }
   ],
   "source": [
    "cnn4=models.Sequential([\n",
    "    layers.Conv2D(filters=32,kernel_size=(3,3),activation='relu', input_shape=(32,32,3)),\n",
    "    layers.MaxPooling2D((2,2)),\n",
    "    layers.Conv2D(filters=64,kernel_size=(3,3),activation='relu'),\n",
    "    layers.MaxPooling2D((2,2)),\n",
    "    layers.Conv2D(filters=128,kernel_size=(3,3),activation='relu'),\n",
    "    layers.MaxPooling2D((2,2)),\n",
    "    layers.Flatten(),\n",
    "    layers.Dense(64, activation='relu'),\n",
    "    layers.Dense(10, activation='softmax')\n",
    "])\n",
    "cnn4.compile(optimizer='adam',\n",
    "              loss='sparse_categorical_crossentropy',\n",
    "              metrics=['accuracy'])\n",
    "\n",
    "cnn4.fit(X_train, y_train, epochs=25)\n",
    "cnn4.evaluate(X_test,y_test)\n"
   ]
  },
  {
   "cell_type": "code",
   "execution_count": 10,
   "metadata": {},
   "outputs": [],
   "source": [
    "cnn4.save(\"cnn4.h5\")\n",
    "cnn4.save(\"cnn4.keras\")"
   ]
  },
  {
   "cell_type": "code",
   "execution_count": 11,
   "metadata": {},
   "outputs": [
    {
     "name": "stdout",
     "output_type": "stream",
     "text": [
      "Epoch 1/25\n",
      "1563/1563 [==============================] - 21s 13ms/step - loss: 1.5220 - accuracy: 0.4421\n",
      "Epoch 2/25\n",
      "1563/1563 [==============================] - 20s 13ms/step - loss: 1.1286 - accuracy: 0.5991\n",
      "Epoch 3/25\n",
      "1563/1563 [==============================] - 20s 13ms/step - loss: 0.9653 - accuracy: 0.6602\n",
      "Epoch 4/25\n",
      "1563/1563 [==============================] - 20s 13ms/step - loss: 0.8565 - accuracy: 0.7012\n",
      "Epoch 5/25\n",
      "1563/1563 [==============================] - 21s 13ms/step - loss: 0.7741 - accuracy: 0.7282\n",
      "Epoch 6/25\n",
      "1563/1563 [==============================] - 21s 13ms/step - loss: 0.7040 - accuracy: 0.7546\n",
      "Epoch 7/25\n",
      "1563/1563 [==============================] - 21s 13ms/step - loss: 0.6437 - accuracy: 0.7741\n",
      "Epoch 8/25\n",
      "1563/1563 [==============================] - 21s 13ms/step - loss: 0.5951 - accuracy: 0.7905\n",
      "Epoch 9/25\n",
      "1563/1563 [==============================] - 21s 13ms/step - loss: 0.5451 - accuracy: 0.8076\n",
      "Epoch 10/25\n",
      "1563/1563 [==============================] - 21s 14ms/step - loss: 0.5044 - accuracy: 0.8243\n",
      "Epoch 11/25\n",
      "1563/1563 [==============================] - 21s 13ms/step - loss: 0.4610 - accuracy: 0.8373\n",
      "Epoch 12/25\n",
      "1563/1563 [==============================] - 21s 13ms/step - loss: 0.4247 - accuracy: 0.8492\n",
      "Epoch 13/25\n",
      "1563/1563 [==============================] - 21s 14ms/step - loss: 0.3932 - accuracy: 0.8606\n",
      "Epoch 14/25\n",
      "1563/1563 [==============================] - 23s 15ms/step - loss: 0.3643 - accuracy: 0.8704\n",
      "Epoch 15/25\n",
      "1563/1563 [==============================] - 23s 15ms/step - loss: 0.3362 - accuracy: 0.8816\n",
      "Epoch 16/25\n",
      "1563/1563 [==============================] - 23s 15ms/step - loss: 0.3172 - accuracy: 0.8872\n",
      "Epoch 17/25\n",
      "1563/1563 [==============================] - 23s 15ms/step - loss: 0.2951 - accuracy: 0.8968\n",
      "Epoch 18/25\n",
      "1563/1563 [==============================] - 23s 15ms/step - loss: 0.2715 - accuracy: 0.9016\n",
      "Epoch 19/25\n",
      "1563/1563 [==============================] - 24s 15ms/step - loss: 0.2570 - accuracy: 0.9088\n",
      "Epoch 20/25\n",
      "1563/1563 [==============================] - 21s 13ms/step - loss: 0.2339 - accuracy: 0.9176\n",
      "Epoch 21/25\n",
      "1563/1563 [==============================] - 20s 13ms/step - loss: 0.2303 - accuracy: 0.9189\n",
      "Epoch 22/25\n",
      "1563/1563 [==============================] - 19s 12ms/step - loss: 0.2077 - accuracy: 0.9265\n",
      "Epoch 23/25\n",
      "1563/1563 [==============================] - 19s 12ms/step - loss: 0.2061 - accuracy: 0.9275\n",
      "Epoch 24/25\n",
      "1563/1563 [==============================] - 19s 12ms/step - loss: 0.1934 - accuracy: 0.9307\n",
      "Epoch 25/25\n",
      "1563/1563 [==============================] - 19s 12ms/step - loss: 0.1767 - accuracy: 0.9374\n",
      "313/313 [==============================] - 2s 5ms/step - loss: 1.5224 - accuracy: 0.7020\n"
     ]
    },
    {
     "data": {
      "text/plain": [
       "[1.5223883390426636, 0.7020000219345093]"
      ]
     },
     "execution_count": 11,
     "metadata": {},
     "output_type": "execute_result"
    }
   ],
   "source": [
    "cnn5=models.Sequential([\n",
    "    layers.Conv2D(filters=32,kernel_size=(3,3),activation='relu', input_shape=(32,32,3)),\n",
    "    layers.MaxPooling2D((2,2)),\n",
    "    layers.Conv2D(filters=64,kernel_size=(3,3),activation='relu'),\n",
    "    layers.MaxPooling2D((2,2)),\n",
    "    layers.Conv2D(filters=128,kernel_size=(3,3),activation='relu'),\n",
    "    layers.MaxPooling2D((2,2)),\n",
    "    layers.Flatten(),\n",
    "    layers.Dense(128, activation='relu'),\n",
    "    layers.Dense(64, activation='relu'),\n",
    "    layers.Dense(10, activation='softmax')\n",
    "])\n",
    "cnn5.compile(optimizer='adam',\n",
    "              loss='sparse_categorical_crossentropy',\n",
    "              metrics=['accuracy'])\n",
    "\n",
    "cnn5.fit(X_train, y_train, epochs=25)\n",
    "cnn5.evaluate(X_test,y_test)"
   ]
  },
  {
   "cell_type": "code",
   "execution_count": 12,
   "metadata": {},
   "outputs": [],
   "source": [
    "cnn5.save(\"cnn5.h5\")\n",
    "cnn5.save(\"cnn5.keras\")"
   ]
  },
  {
   "cell_type": "code",
   "execution_count": 13,
   "metadata": {
    "scrolled": true
   },
   "outputs": [
    {
     "name": "stdout",
     "output_type": "stream",
     "text": [
      "Epoch 1/25\n",
      "1563/1563 [==============================] - 52s 33ms/step - loss: 1.5839 - accuracy: 0.4158\n",
      "Epoch 2/25\n",
      "1563/1563 [==============================] - 51s 32ms/step - loss: 1.1739 - accuracy: 0.5836\n",
      "Epoch 3/25\n",
      "1563/1563 [==============================] - 53s 34ms/step - loss: 1.0098 - accuracy: 0.6427\n",
      "Epoch 4/25\n",
      "1563/1563 [==============================] - 53s 34ms/step - loss: 0.9005 - accuracy: 0.6821\n",
      "Epoch 5/25\n",
      "1563/1563 [==============================] - 52s 33ms/step - loss: 0.8221 - accuracy: 0.7114\n",
      "Epoch 6/25\n",
      "1563/1563 [==============================] - 51s 33ms/step - loss: 0.7588 - accuracy: 0.7344\n",
      "Epoch 7/25\n",
      "1563/1563 [==============================] - 52s 33ms/step - loss: 0.7033 - accuracy: 0.7527\n",
      "Epoch 8/25\n",
      "1563/1563 [==============================] - 52s 33ms/step - loss: 0.6522 - accuracy: 0.7705\n",
      "Epoch 9/25\n",
      "1563/1563 [==============================] - 52s 33ms/step - loss: 0.6134 - accuracy: 0.7843\n",
      "Epoch 10/25\n",
      "1563/1563 [==============================] - 53s 34ms/step - loss: 0.5691 - accuracy: 0.8013\n",
      "Epoch 11/25\n",
      "1563/1563 [==============================] - 53s 34ms/step - loss: 0.5350 - accuracy: 0.8123\n",
      "Epoch 12/25\n",
      "1563/1563 [==============================] - 53s 34ms/step - loss: 0.4976 - accuracy: 0.8237\n",
      "Epoch 13/25\n",
      "1563/1563 [==============================] - 54s 35ms/step - loss: 0.4669 - accuracy: 0.8364\n",
      "Epoch 14/25\n",
      "1563/1563 [==============================] - 54s 35ms/step - loss: 0.4359 - accuracy: 0.8458\n",
      "Epoch 15/25\n",
      "1563/1563 [==============================] - 52s 33ms/step - loss: 0.4077 - accuracy: 0.8553\n",
      "Epoch 16/25\n",
      "1563/1563 [==============================] - 52s 33ms/step - loss: 0.3833 - accuracy: 0.8641\n",
      "Epoch 17/25\n",
      "1563/1563 [==============================] - 52s 33ms/step - loss: 0.3575 - accuracy: 0.8726\n",
      "Epoch 18/25\n",
      "1563/1563 [==============================] - 69s 44ms/step - loss: 0.3378 - accuracy: 0.8802\n",
      "Epoch 19/25\n",
      "1563/1563 [==============================] - 79s 51ms/step - loss: 0.3223 - accuracy: 0.8842\n",
      "Epoch 20/25\n",
      "1563/1563 [==============================] - 72s 46ms/step - loss: 0.2953 - accuracy: 0.8946\n",
      "Epoch 21/25\n",
      "1563/1563 [==============================] - 72s 46ms/step - loss: 0.2843 - accuracy: 0.8986\n",
      "Epoch 22/25\n",
      "1563/1563 [==============================] - 70s 45ms/step - loss: 0.2687 - accuracy: 0.9033\n",
      "Epoch 23/25\n",
      "1563/1563 [==============================] - 71s 45ms/step - loss: 0.2574 - accuracy: 0.9084\n",
      "Epoch 24/25\n",
      "1563/1563 [==============================] - 71s 45ms/step - loss: 0.2376 - accuracy: 0.9160\n",
      "Epoch 25/25\n",
      "1563/1563 [==============================] - 74s 47ms/step - loss: 0.2352 - accuracy: 0.9160\n",
      "313/313 [==============================] - 4s 13ms/step - loss: 1.4495 - accuracy: 0.7126\n"
     ]
    },
    {
     "data": {
      "text/plain": [
       "[1.4495409727096558, 0.7125999927520752]"
      ]
     },
     "execution_count": 13,
     "metadata": {},
     "output_type": "execute_result"
    }
   ],
   "source": [
    "cnn6=models.Sequential([\n",
    "    layers.Conv2D(filters=128,kernel_size=(3,3),activation='relu', input_shape=(32,32,3)),\n",
    "    layers.MaxPooling2D((2,2)),\n",
    "    layers.Conv2D(filters=128,kernel_size=(3,3),activation='relu'),\n",
    "    layers.MaxPooling2D((2,2)),\n",
    "    layers.Conv2D(filters=128,kernel_size=(3,3),activation='relu'),\n",
    "    layers.MaxPooling2D((2,2)),\n",
    "    layers.Flatten(),\n",
    "    layers.Dense(128, activation='relu'),\n",
    "    layers.Dense(64, activation='relu'),\n",
    "    layers.Dense(10, activation='softmax')\n",
    "])\n",
    "cnn6.compile(optimizer='adam',\n",
    "              loss='sparse_categorical_crossentropy',\n",
    "              metrics=['accuracy'])\n",
    "\n",
    "cnn6.fit(X_train, y_train, epochs=25)\n",
    "cnn6.evaluate(X_test,y_test)"
   ]
  },
  {
   "cell_type": "code",
   "execution_count": 14,
   "metadata": {},
   "outputs": [],
   "source": [
    "cnn6.save(\"cnn6.h5\")\n",
    "cnn6.save(\"cnn6.keras\")"
   ]
  },
  {
   "cell_type": "code",
   "execution_count": 17,
   "metadata": {},
   "outputs": [
    {
     "name": "stdout",
     "output_type": "stream",
     "text": [
      "Epoch 1/25\n",
      "1563/1563 [==============================] - 24s 15ms/step - loss: 1.5498 - accuracy: 0.4267\n",
      "Epoch 2/25\n",
      "1563/1563 [==============================] - 22s 14ms/step - loss: 1.1359 - accuracy: 0.5938\n",
      "Epoch 3/25\n",
      "1563/1563 [==============================] - 22s 14ms/step - loss: 0.9646 - accuracy: 0.6592\n",
      "Epoch 4/25\n",
      "1563/1563 [==============================] - 23s 15ms/step - loss: 0.8396 - accuracy: 0.7049\n",
      "Epoch 5/25\n",
      "1563/1563 [==============================] - 23s 15ms/step - loss: 0.7540 - accuracy: 0.7368\n",
      "Epoch 6/25\n",
      "1563/1563 [==============================] - 23s 14ms/step - loss: 0.6812 - accuracy: 0.7622\n",
      "Epoch 7/25\n",
      "1563/1563 [==============================] - 23s 15ms/step - loss: 0.6128 - accuracy: 0.7884\n",
      "Epoch 8/25\n",
      "1563/1563 [==============================] - 23s 14ms/step - loss: 0.5564 - accuracy: 0.8053\n",
      "Epoch 9/25\n",
      "1563/1563 [==============================] - 22s 14ms/step - loss: 0.5083 - accuracy: 0.8213\n",
      "Epoch 10/25\n",
      "1563/1563 [==============================] - 22s 14ms/step - loss: 0.4631 - accuracy: 0.8375\n",
      "Epoch 11/25\n",
      "1563/1563 [==============================] - 22s 14ms/step - loss: 0.4148 - accuracy: 0.8522\n",
      "Epoch 12/25\n",
      "1563/1563 [==============================] - 22s 14ms/step - loss: 0.3850 - accuracy: 0.8638\n",
      "Epoch 13/25\n",
      "1563/1563 [==============================] - 22s 14ms/step - loss: 0.3473 - accuracy: 0.8782\n",
      "Epoch 14/25\n",
      "1563/1563 [==============================] - 22s 14ms/step - loss: 0.3263 - accuracy: 0.8848\n",
      "Epoch 15/25\n",
      "1563/1563 [==============================] - 23s 15ms/step - loss: 0.2866 - accuracy: 0.8983\n",
      "Epoch 16/25\n",
      "1563/1563 [==============================] - 23s 15ms/step - loss: 0.2743 - accuracy: 0.9039\n",
      "Epoch 17/25\n",
      "1563/1563 [==============================] - 23s 15ms/step - loss: 0.2500 - accuracy: 0.9115\n",
      "Epoch 18/25\n",
      "1563/1563 [==============================] - 29s 19ms/step - loss: 0.2306 - accuracy: 0.9186\n",
      "Epoch 19/25\n",
      "1563/1563 [==============================] - 32s 20ms/step - loss: 0.2203 - accuracy: 0.9228\n",
      "Epoch 20/25\n",
      "1563/1563 [==============================] - 72s 46ms/step - loss: 0.1963 - accuracy: 0.9310\n",
      "Epoch 21/25\n",
      "1563/1563 [==============================] - 42s 27ms/step - loss: 0.1891 - accuracy: 0.9340\n",
      "Epoch 22/25\n",
      "1563/1563 [==============================] - 36s 23ms/step - loss: 0.1805 - accuracy: 0.9367\n",
      "Epoch 23/25\n",
      "1563/1563 [==============================] - 37s 24ms/step - loss: 0.1744 - accuracy: 0.9387\n",
      "Epoch 24/25\n",
      "1563/1563 [==============================] - 39s 25ms/step - loss: 0.1699 - accuracy: 0.9398\n",
      "Epoch 25/25\n",
      "1563/1563 [==============================] - 39s 25ms/step - loss: 0.1556 - accuracy: 0.9450\n",
      "313/313 [==============================] - 3s 9ms/step - loss: 1.5808 - accuracy: 0.7054\n"
     ]
    },
    {
     "data": {
      "text/plain": [
       "[1.5808407068252563, 0.7053999900817871]"
      ]
     },
     "execution_count": 17,
     "metadata": {},
     "output_type": "execute_result"
    }
   ],
   "source": [
    "cnn7=models.Sequential([\n",
    "    \n",
    "    layers.Conv2D(filters=32,kernel_size=(3,3),activation='relu', input_shape=(32,32,3)),\n",
    "    layers.MaxPooling2D((2,2)),\n",
    "    \n",
    "    layers.Conv2D(filters=64,kernel_size=(3,3),activation='relu'),\n",
    "    layers.MaxPooling2D((2,2)),\n",
    "    \n",
    "    layers.Conv2D(filters=128,kernel_size=(3,3),activation='relu'),\n",
    "    layers.MaxPooling2D((2,2)),\n",
    "    \n",
    "    layers.Flatten(),\n",
    "    layers.Dense(256, activation='relu'),\n",
    "    layers.Dense(128, activation='relu'),\n",
    "    layers.Dense(64, activation='relu'),\n",
    "    layers.Dense(10, activation='softmax')\n",
    "])\n",
    "cnn7.compile(optimizer='adam',\n",
    "              loss='sparse_categorical_crossentropy',\n",
    "              metrics=['accuracy'])\n",
    "cnn7.fit(X_train, y_train, epochs=25)\n",
    "cnn7.evaluate(X_test,y_test)"
   ]
  },
  {
   "cell_type": "code",
   "execution_count": 19,
   "metadata": {},
   "outputs": [],
   "source": [
    "cnn7.save(\"cnn7.h5\")\n",
    "cnn7.save(\"cnn7.keras\")"
   ]
  },
  {
   "cell_type": "code",
   "execution_count": null,
   "metadata": {},
   "outputs": [],
   "source": []
  }
 ],
 "metadata": {
  "kernelspec": {
   "display_name": "Python 3 (ipykernel)",
   "language": "python",
   "name": "python3"
  },
  "language_info": {
   "codemirror_mode": {
    "name": "ipython",
    "version": 3
   },
   "file_extension": ".py",
   "mimetype": "text/x-python",
   "name": "python",
   "nbconvert_exporter": "python",
   "pygments_lexer": "ipython3",
   "version": "3.10.12"
  }
 },
 "nbformat": 4,
 "nbformat_minor": 2
}
